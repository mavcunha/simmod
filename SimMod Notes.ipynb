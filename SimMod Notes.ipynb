{
 "cells": [
  {
   "cell_type": "markdown",
   "metadata": {},
   "source": [
    "# Simulation and Modeling of Natural Processes"
   ]
  },
  {
   "cell_type": "markdown",
   "metadata": {},
   "source": [
    "## Markov-Chain Monte-Carlo\n",
    "\n",
    "_Considering a stochastic process whose goal is to explore the state space of a system of interest._\n",
    "\n",
    "In other words, there's a system let's say a gas in a chamber, there's a stochastic processes associated with it. Since the molecules move at random, they can move to any direction and we want to explore the probability of them moving from $x$ position to $x'$ position. \n",
    "\n",
    "That probability can be denoted by $W_{x\\rightarrow x'}$, and the advancement of the system from $t$ to $t + 1$ is what it makes a Markov Chain. \n",
    "\n",
    "We want to sample a prescribed probability $p(t,x)$, the process should be at point $x$ at time $t$ with a probablity of $p(t, x)$. So, in other words, we want count as a \"success\" if we can find a $W_{x\\rightarrow x'}$ which results in $p$ at position $x$ at time $t$, is that it?\n",
    "\n",
    "\n",
    "_Sampling the diffusion equation in 1D_ (Monte-Carlo)\n",
    "\n",
    "The probability that our random exportation is at location $x$ at time $t $ is\n",
    "\n",
    "$$p(t + 1, x) = \\sum_{x'}p(t, x')W_{x'\\rightarrow x}$$\n",
    "\n",
    "* Let us consider a 1D discrete space: $x\\in \\mathbb{Z} $\n",
    "* where one can move to the right with probability $W_{+}$, to the left with probability $W_{-}$ and stay still wiht probability $W_{0}$.\n",
    "* The equation for $p(t,x)$ simplifies to:\n",
    "\n",
    "$$p(t + 1, x) = p(t, x - 1)W_{+} + p(t, x)W_{0} + p(t, x + 1)W_{-}$$\n"
   ]
  },
  {
   "cell_type": "code",
   "execution_count": null,
   "metadata": {},
   "outputs": [],
   "source": []
  }
 ],
 "metadata": {
  "kernelspec": {
   "display_name": "Python 3",
   "language": "python",
   "name": "python3"
  },
  "language_info": {
   "codemirror_mode": {
    "name": "ipython",
    "version": 3
   },
   "file_extension": ".py",
   "mimetype": "text/x-python",
   "name": "python",
   "nbconvert_exporter": "python",
   "pygments_lexer": "ipython3",
   "version": "3.8.5"
  }
 },
 "nbformat": 4,
 "nbformat_minor": 4
}
